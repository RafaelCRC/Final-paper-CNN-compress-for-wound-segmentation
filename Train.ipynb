{
 "cells": [
  {
   "cell_type": "code",
   "execution_count": 33,
   "id": "f15b61de",
   "metadata": {},
   "outputs": [
    {
     "name": "stdout",
     "output_type": "stream",
     "text": [
      "The tensorboard extension is already loaded. To reload it, use:\n",
      "  %reload_ext tensorboard\n"
     ]
    }
   ],
   "source": [
    "\n",
    "from woundSegmentation.models.unets import Unet2D\n",
    "from woundSegmentation.models.deeplab import Deeplabv3\n",
    "from woundSegmentation.models.FCN import VGG_19\n",
    "from woundSegmentation.models.SegNet import SegNet\n",
    "\n",
    "from woundSegmentation.utils.learning.metrics import dice_coef, precision, recall\n",
    "from woundSegmentation.utils.learning.losses import dice_coef_loss\n",
    "from woundSegmentation.utils.io.data import DataGen, save_history\n",
    "\n",
    "from tensorflow.keras.optimizers import Adam\n",
    "from keras.callbacks import EarlyStopping\n",
    "\n",
    "import numpy as np\n",
    "import tensorflow as tf\n",
    "import tensorflow_model_optimization as tfmot\n",
    "\n",
    "import os\n",
    "import time\n",
    "\n",
    "%load_ext tensorboard"
   ]
  },
  {
   "cell_type": "code",
   "execution_count": null,
   "id": "1f4520d7",
   "metadata": {},
   "outputs": [],
   "source": [
    "# Insira o modelo desejado\n",
    "modelName = \"fcn\"\n",
    "\n",
    "# Se o modelo é podado ou não\n",
    "prune = True"
   ]
  },
  {
   "cell_type": "code",
   "execution_count": null,
   "id": "a14de875",
   "metadata": {},
   "outputs": [],
   "source": [
    "# Seleção do caminho\n",
    "if prune:\n",
    "    os.environ[\"CUDA_VISIBLE_DEVICES\"] = \"-1\"\n",
    "    \n",
    "print(\"Numero de GPUs disponiveis: \", len(tf.config.list_physical_devices('GPU')))"
   ]
  },
  {
   "cell_type": "code",
   "execution_count": null,
   "id": "a6d2fc5f",
   "metadata": {},
   "outputs": [],
   "source": [
    "# Modelos disponiveis\n",
    "models = [\"fcn\", \"mobilenetv2\", \"segnet\", \"unet\"]\n",
    "\n",
    "\n",
    "# Seleção do caminho\n",
    "if prune:\n",
    "    dirPath = 'woundSegmentation/results_prune/'\n",
    "else:\n",
    "    dirPath = 'woundSegmentation/results/'\n",
    "\n",
    "# Criacao de arquivos\n",
    "isdir = os.path.isdir(dirPath)\n",
    "if not isdir:\n",
    "    os.mkdir(dirPath)\n",
    "    for i in range(len(models)):\n",
    "        os.mkdir(dirPath + models[i])\n",
    "        os.mkdir(dirPath + models[i] + \"/training_history/\")\n",
    "        os.mkdir(dirPath + models[i] + \"/datapredict/\")\n",
    "        \n",
    "modelDirPath = dirPath + modelName + \"/\""
   ]
  },
  {
   "cell_type": "code",
   "execution_count": null,
   "id": "b7ac9872",
   "metadata": {},
   "outputs": [],
   "source": [
    "# Variaveis e gerador de dados\n",
    "input_dim_x = 224\n",
    "input_dim_y = 224\n",
    "n_filters = 32\n",
    "dataset = 'Foot Ulcer Segmentation Challenge'\n",
    "datasetpath = 'woundSegmentation/data/' + dataset\n",
    "#dataset= 'Medetec_foot_ulcer_224'\n",
    "data_gen = DataGen('woundSegmentation/data/' + dataset + '/', split_ratio=0.2, x=input_dim_x, y=input_dim_y)"
   ]
  },
  {
   "cell_type": "code",
   "execution_count": null,
   "id": "b55fb27a",
   "metadata": {},
   "outputs": [],
   "source": [
    "# Unet\n",
    "if (modelName == \"unet\"):\n",
    "    unet2d = Unet2D(n_filters=n_filters, input_dim_x=None, input_dim_y=None, num_channels=3)\n",
    "    model, model_name = unet2d.get_unet_model_yuanqing()\n",
    "    print(\"Modelo Unet Carregado!\")"
   ]
  },
  {
   "cell_type": "code",
   "execution_count": null,
   "id": "0180d1af",
   "metadata": {},
   "outputs": [],
   "source": [
    "# SegNet\n",
    "if (modelName == \"segnet\"):\n",
    "    segNet = SegNet(n_filters=n_filters, input_dim_x=None, input_dim_y=None, num_channels=3)\n",
    "    model, model_name = segNet.get_SegNet()\n",
    "    print(\"Modelo Segnet Carregado!\")"
   ]
  },
  {
   "cell_type": "code",
   "execution_count": null,
   "id": "b5e7bcc6",
   "metadata": {},
   "outputs": [],
   "source": [
    "# MobilenetV2\n",
    "if (modelName == \"mobilenetv2\"):\n",
    "    model = Deeplabv3(input_shape=(input_dim_x, input_dim_y, 3), classes=1)\n",
    "    model_name = 'MobilenetV2'\n",
    "    print(\"Modelo MobilenetV2 Carregado!\")"
   ]
  },
  {
   "cell_type": "code",
   "execution_count": null,
   "id": "37994cf9",
   "metadata": {},
   "outputs": [],
   "source": [
    "# FCN\n",
    "if (modelName == \"fcn\"):\n",
    "    model = VGG_19(input_shape=(input_dim_x, input_dim_y, 3))\n",
    "    model_name = 'FCN'\n",
    "    print(\"Modelo FCN Carregado!\")"
   ]
  },
  {
   "cell_type": "code",
   "execution_count": null,
   "id": "23d0f338",
   "metadata": {},
   "outputs": [],
   "source": [
    "# Configuracoes de treinamento\n",
    "batch_size = 2\n",
    "epochs = 240\n",
    "learning_rate = 1e-4\n",
    "loss = 'binary_crossentropy'"
   ]
  },
  {
   "cell_type": "code",
   "execution_count": null,
   "id": "240c2bea",
   "metadata": {},
   "outputs": [],
   "source": [
    "# Tecnica de poda\n",
    "if prune:\n",
    "    prune_low_magnitude = tfmot.sparsity.keras.prune_low_magnitude\n",
    "    \n",
    "    num_images = 810 * (1 - 0.2)\n",
    "    end_step = np.ceil(num_images / batch_size).astype(np.int32) * epochs\n",
    "    \n",
    "    pruning_params = {\n",
    "      'pruning_schedule': tfmot.sparsity.keras.PolynomialDecay(initial_sparsity=0.30, final_sparsity=0.70, begin_step=0, end_step=end_step)\n",
    "    }\n",
    "\n",
    "    model_pruned = prune_low_magnitude(model, **pruning_params)"
   ]
  },
  {
   "cell_type": "code",
   "execution_count": null,
   "id": "c699a9b8",
   "metadata": {},
   "outputs": [],
   "source": [
    "# Cria o txt do resumo do modelo\n",
    "def printmodelsummary(s):\n",
    "    with open(modelDirPath + modelName + 'Modelsummary.txt','a') as f:\n",
    "        print(s, file=f)\n",
    "\n",
    "model_pruned.summary(print_fn=printmodelsummary)"
   ]
  },
  {
   "cell_type": "code",
   "execution_count": null,
   "id": "6d2f5bff",
   "metadata": {},
   "outputs": [],
   "source": [
    "# callback\n",
    "if prune:\n",
    "    callbacks = [\n",
    "        EarlyStopping(monitor='val_dice_coef', patience=50, mode='max', restore_best_weights=True),\n",
    "        tfmot.sparsity.keras.UpdatePruningStep()\n",
    "    ]\n",
    "else:\n",
    "    callbacks = [\n",
    "        EarlyStopping(monitor='val_dice_coef', patience=50, mode='max', restore_best_weights=True)\n",
    "    ]"
   ]
  },
  {
   "cell_type": "code",
   "execution_count": null,
   "id": "0e93734f",
   "metadata": {},
   "outputs": [],
   "source": [
    "# Treinamento\n",
    "start = time.time()\n",
    "model_pruned.compile(optimizer=Adam(lr=learning_rate), loss=loss, metrics=[dice_coef, precision, recall])\n",
    "training_history = model_pruned.fit_generator(data_gen.generate_data(batch_size=batch_size, train=True),\n",
    "                                       steps_per_epoch=int(data_gen.get_num_data_points(train=True) / batch_size),\n",
    "                                       callbacks=callbacks,\n",
    "                                       validation_data=data_gen.generate_data(batch_size=batch_size, val=True),\n",
    "                                       validation_steps=int(data_gen.get_num_data_points(val=True) / batch_size),\n",
    "                                       epochs=epochs)\n",
    "end = time.time()\n",
    "file = open(modelDirPath + modelName +\"Time.txt\", \"w\")\n",
    "file.write(\"Treinamento\\n\")\n",
    "file.write(str(end-start))\n",
    "file.close()"
   ]
  },
  {
   "cell_type": "code",
   "execution_count": null,
   "id": "f19bf8d2",
   "metadata": {},
   "outputs": [],
   "source": [
    "# Salva o modelo e o historico de treinamento\n",
    "save_history(model, training_history, model_name, dataset, n_filters, epochs, learning_rate, loss, color_space='RGB',\n",
    "             path= modelDirPath + \"training_history/\", name= modelName + \"prunedmodelfile\")"
   ]
  },
  {
   "cell_type": "code",
   "execution_count": null,
   "id": "5b48d6f1",
   "metadata": {},
   "outputs": [],
   "source": []
  }
 ],
 "metadata": {
  "kernelspec": {
   "display_name": "Python 3 (ipykernel)",
   "language": "python",
   "name": "python3"
  },
  "language_info": {
   "codemirror_mode": {
    "name": "ipython",
    "version": 3
   },
   "file_extension": ".py",
   "mimetype": "text/x-python",
   "name": "python",
   "nbconvert_exporter": "python",
   "pygments_lexer": "ipython3",
   "version": "3.8.13"
  }
 },
 "nbformat": 4,
 "nbformat_minor": 5
}
