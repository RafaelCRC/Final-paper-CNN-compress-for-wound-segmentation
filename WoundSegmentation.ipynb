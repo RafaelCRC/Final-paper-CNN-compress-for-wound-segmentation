{
 "cells": [
  {
   "cell_type": "code",
   "execution_count": 1,
   "metadata": {},
   "outputs": [
    {
     "name": "stdout",
     "output_type": "stream",
     "text": [
      "Numero de GPUs disponiveis:  1\n"
     ]
    }
   ],
   "source": [
    "# Checa GPUs disponiveis\n",
    "import tensorflow as tf\n",
    "print(\"Numero de GPUs disponiveis: \", len(tf.config.list_physical_devices('GPU')))"
   ]
  },
  {
   "cell_type": "code",
   "execution_count": 2,
   "metadata": {
    "id": "P7Rw0byIriN0"
   },
   "outputs": [],
   "source": [
    "# imports para treino e previsao\n",
    "import cv2\n",
    "\n",
    "from tensorflow.keras.optimizers import Adam\n",
    "from keras.callbacks import EarlyStopping\n",
    "from keras.models import load_model\n",
    "from keras.utils.generic_utils import CustomObjectScope\n",
    "\n",
    "from woundSegmentation.models.unets import Unet2D\n",
    "from woundSegmentation.models.deeplab import Deeplabv3, relu6, DepthwiseConv2D, BilinearUpsampling\n",
    "from woundSegmentation.models.FCN import FCN_Vgg16_16s, VGG_19\n",
    "from woundSegmentation.models.SegNet import SegNet\n",
    "\n",
    "from woundSegmentation.utils.BilinearUpSampling import BilinearUpSampling2D\n",
    "from woundSegmentation.utils.learning.metrics import dice_coef, precision, recall\n",
    "from woundSegmentation.utils.learning.losses import dice_coef_loss\n",
    "from woundSegmentation.utils.io.data import DataGen, save_results, save_history, load_data, save_rgb_results, load_test_images\n",
    "\n",
    "import tensorflow as tf\n",
    "\n",
    "import os\n",
    "import time"
   ]
  },
  {
   "cell_type": "markdown",
   "metadata": {},
   "source": [
    "<h3>Configuração inicial de diretorios</h3>"
   ]
  },
  {
   "cell_type": "code",
   "execution_count": 3,
   "metadata": {},
   "outputs": [],
   "source": [
    "# Modelos disponiveis\n",
    "models = [\"fcn\", \"mobilenetv2\", \"segnet\", \"unet\"]"
   ]
  },
  {
   "cell_type": "code",
   "execution_count": 4,
   "metadata": {},
   "outputs": [],
   "source": [
    "# Criacao de arquivos\n",
    "dirPath = 'woundSegmentation/results/'\n",
    "isdir = os.path.isdir(dirPath)\n",
    "if not isdir:\n",
    "    os.mkdir('woundSegmentation/results/')\n",
    "    for i in range(len(models)):\n",
    "        os.mkdir(dirPath + models[i])\n",
    "        os.mkdir(dirPath + models[i] + \"/training_history/\")\n",
    "        os.mkdir(dirPath + models[i] + \"/datapredict/\")"
   ]
  },
  {
   "cell_type": "markdown",
   "metadata": {},
   "source": [
    "<h3>ESCOLHA DO MODELO</h3>"
   ]
  },
  {
   "cell_type": "code",
   "execution_count": 5,
   "metadata": {},
   "outputs": [],
   "source": [
    "# Insira o modelo desejado\n",
    "modelName = \"fcn\"\n",
    "modelDirPath = dirPath + modelName + \"/\""
   ]
  },
  {
   "cell_type": "code",
   "execution_count": 6,
   "metadata": {
    "id": "hAEcZQS9vkdu"
   },
   "outputs": [],
   "source": [
    "# Variaveis e gerador de dados\n",
    "input_dim_x = 224\n",
    "input_dim_y = 224\n",
    "n_filters = 32\n",
    "dataset = 'Foot Ulcer Segmentation Challenge'\n",
    "datasetpath = 'woundSegmentation/data/' + dataset\n",
    "#dataset= 'Medetec_foot_ulcer_224'\n",
    "data_gen = DataGen('woundSegmentation/data/' + dataset + '/', split_ratio=0.2, x=input_dim_x, y=input_dim_y)"
   ]
  },
  {
   "cell_type": "code",
   "execution_count": 7,
   "metadata": {},
   "outputs": [],
   "source": [
    "# Unet\n",
    "if (modelName == \"unet\"):\n",
    "    unet2d = Unet2D(n_filters=n_filters, input_dim_x=None, input_dim_y=None, num_channels=3)\n",
    "    model, model_name = unet2d.get_unet_model_yuanqing()\n",
    "    print(\"Modelo Unet Carregado!\")"
   ]
  },
  {
   "cell_type": "code",
   "execution_count": 8,
   "metadata": {},
   "outputs": [],
   "source": [
    "# SegNet\n",
    "if (modelName == \"segnet\"):\n",
    "    segNet = SegNet(n_filters=n_filters, input_dim_x=None, input_dim_y=None, num_channels=3)\n",
    "    model, model_name = segNet.get_SegNet()\n",
    "    print(\"Modelo Segnet Carregado!\")"
   ]
  },
  {
   "cell_type": "code",
   "execution_count": 9,
   "metadata": {
    "colab": {
     "base_uri": "https://localhost:8080/"
    },
    "id": "WLK2XFAyv3Bl",
    "outputId": "ac9e59d0-bea1-4437-b305-9de5cf243b01"
   },
   "outputs": [],
   "source": [
    "# MobilenetV2\n",
    "if (modelName == \"mobilenetv2\"):\n",
    "    model = Deeplabv3(input_shape=(input_dim_x, input_dim_y, 3), classes=1)\n",
    "    model_name = 'MobilenetV2'\n",
    "    print(\"Modelo MobilenetV2 Carregado!\")"
   ]
  },
  {
   "cell_type": "code",
   "execution_count": 10,
   "metadata": {},
   "outputs": [
    {
     "name": "stdout",
     "output_type": "stream",
     "text": [
      "Modelo FCN Carregado!\n"
     ]
    }
   ],
   "source": [
    "# FCN\n",
    "if (modelName == \"fcn\"):\n",
    "    model = VGG_19(input_shape=(input_dim_x, input_dim_y, 3))\n",
    "    model_name = 'FCN'\n",
    "    print(\"Modelo FCN Carregado!\")"
   ]
  },
  {
   "cell_type": "code",
   "execution_count": 11,
   "metadata": {},
   "outputs": [],
   "source": [
    "# Cria o txt do resumo do modelo\n",
    "def printmodelsummary(s):\n",
    "    with open(modelDirPath + modelName + 'Modelsummary.txt','a') as f:\n",
    "        print(s, file=f)\n",
    "\n",
    "model.summary(print_fn=printmodelsummary)"
   ]
  },
  {
   "cell_type": "code",
   "execution_count": 12,
   "metadata": {
    "id": "PBfP28pcNGae"
   },
   "outputs": [],
   "source": [
    "# Modelo pre treinado\n",
    "#with CustomObjectScope({'relu6': relu6,'DepthwiseConv2D': DepthwiseConv2D, 'BilinearUpsampling': BilinearUpsampling}):\n",
    "#    model = load_model('woundSegmentation/training_history/2019-12-19 01%3A53%3A15.480800.hdf5'\n",
    "#                       , custom_objects={'dice_coef': dice_coef, 'precision':precision, 'recall':recall})"
   ]
  },
  {
   "cell_type": "markdown",
   "metadata": {
    "id": "jiiR_55c_h-2"
   },
   "source": [
    "<h3>Treinamento</h3>"
   ]
  },
  {
   "cell_type": "code",
   "execution_count": 13,
   "metadata": {
    "id": "gPJqg5XX7E7l"
   },
   "outputs": [],
   "source": [
    "# Configuracoes de treinamento\n",
    "batch_size = 2\n",
    "epochs = 240\n",
    "learning_rate = 1e-4\n",
    "loss = 'binary_crossentropy'"
   ]
  },
  {
   "cell_type": "code",
   "execution_count": 14,
   "metadata": {
    "id": "HquE0cZ47Jwl"
   },
   "outputs": [],
   "source": [
    "# Paciencia para early stoping\n",
    "callbacks = [\n",
    "        EarlyStopping(monitor='val_dice_coef', patience=50, mode='max', restore_best_weights=True)\n",
    "    ]"
   ]
  },
  {
   "cell_type": "code",
   "execution_count": 15,
   "metadata": {
    "colab": {
     "base_uri": "https://localhost:8080/"
    },
    "id": "9-400P0B7T5N",
    "outputId": "9fbd80c0-1913-4f73-bfe8-3fc7b22c4146"
   },
   "outputs": [
    {
     "name": "stdout",
     "output_type": "stream",
     "text": [
      "Epoch 1/240\n"
     ]
    },
    {
     "name": "stderr",
     "output_type": "stream",
     "text": [
      "C:\\Users\\rafa_\\miniconda3\\envs\\gpu\\lib\\site-packages\\keras\\optimizers\\optimizer_v2\\adam.py:114: UserWarning: The `lr` argument is deprecated, use `learning_rate` instead.\n",
      "  super().__init__(name, **kwargs)\n",
      "C:\\Users\\rafa_\\AppData\\Local\\Temp\\ipykernel_21172\\1540222364.py:4: UserWarning: `Model.fit_generator` is deprecated and will be removed in a future version. Please use `Model.fit`, which supports generators.\n",
      "  training_history = model.fit_generator(data_gen.generate_data(batch_size=batch_size, train=True),\n"
     ]
    },
    {
     "name": "stdout",
     "output_type": "stream",
     "text": [
      "324/324 [==============================] - 22s 53ms/step - loss: 0.4591 - dice_coef: 0.2729 - precision: 0.2025 - recall: 0.7305 - val_loss: 0.3750 - val_dice_coef: 0.3604 - val_precision: 0.5020 - val_recall: 0.3278\n",
      "Epoch 2/240\n",
      "324/324 [==============================] - 17s 52ms/step - loss: 0.3064 - dice_coef: 0.5544 - precision: 0.5407 - recall: 0.6700 - val_loss: 0.3032 - val_dice_coef: 0.4586 - val_precision: 0.8051 - val_recall: 0.3782\n",
      "Epoch 3/240\n",
      "324/324 [==============================] - 17s 52ms/step - loss: 0.2502 - dice_coef: 0.6351 - precision: 0.6659 - recall: 0.7026 - val_loss: 0.2183 - val_dice_coef: 0.3404 - val_precision: 0.7839 - val_recall: 0.2545\n",
      "Epoch 4/240\n",
      "324/324 [==============================] - 17s 52ms/step - loss: 0.2104 - dice_coef: 0.6781 - precision: 0.7106 - recall: 0.7380 - val_loss: 0.1816 - val_dice_coef: 0.3713 - val_precision: 0.8318 - val_recall: 0.2772\n",
      "Epoch 5/240\n",
      "324/324 [==============================] - 17s 52ms/step - loss: 0.1773 - dice_coef: 0.7142 - precision: 0.7410 - recall: 0.7682 - val_loss: 0.1537 - val_dice_coef: 0.2090 - val_precision: 0.6299 - val_recall: 0.1389\n",
      "Epoch 6/240\n",
      "324/324 [==============================] - 17s 52ms/step - loss: 0.1494 - dice_coef: 0.7425 - precision: 0.7702 - recall: 0.7867 - val_loss: 0.1270 - val_dice_coef: 0.5787 - val_precision: 0.9083 - val_recall: 0.4740\n",
      "Epoch 7/240\n",
      "324/324 [==============================] - 17s 51ms/step - loss: 0.1261 - dice_coef: 0.7673 - precision: 0.7909 - recall: 0.8027 - val_loss: 0.1112 - val_dice_coef: 0.4737 - val_precision: 0.8944 - val_recall: 0.3682\n",
      "Epoch 8/240\n",
      "324/324 [==============================] - 17s 52ms/step - loss: 0.1068 - dice_coef: 0.7843 - precision: 0.8070 - recall: 0.8125 - val_loss: 0.0927 - val_dice_coef: 0.6174 - val_precision: 0.9186 - val_recall: 0.5129\n",
      "Epoch 9/240\n",
      "324/324 [==============================] - 17s 52ms/step - loss: 0.0900 - dice_coef: 0.8066 - precision: 0.8300 - recall: 0.8276 - val_loss: 0.0783 - val_dice_coef: 0.7521 - val_precision: 0.9258 - val_recall: 0.6833\n",
      "Epoch 10/240\n",
      "324/324 [==============================] - 17s 52ms/step - loss: 0.0757 - dice_coef: 0.8288 - precision: 0.8483 - recall: 0.8431 - val_loss: 0.0679 - val_dice_coef: 0.7445 - val_precision: 0.9290 - val_recall: 0.6769\n",
      "Epoch 11/240\n",
      "324/324 [==============================] - 17s 52ms/step - loss: 0.0651 - dice_coef: 0.8269 - precision: 0.8462 - recall: 0.8400 - val_loss: 0.0596 - val_dice_coef: 0.7389 - val_precision: 0.9011 - val_recall: 0.6816\n",
      "Epoch 12/240\n",
      "324/324 [==============================] - 17s 52ms/step - loss: 0.0550 - dice_coef: 0.8386 - precision: 0.8604 - recall: 0.8481 - val_loss: 0.0523 - val_dice_coef: 0.7293 - val_precision: 0.9273 - val_recall: 0.6497\n",
      "Epoch 13/240\n",
      "324/324 [==============================] - 17s 52ms/step - loss: 0.0461 - dice_coef: 0.8568 - precision: 0.8718 - recall: 0.8645 - val_loss: 0.0466 - val_dice_coef: 0.7091 - val_precision: 0.9444 - val_recall: 0.6101\n",
      "Epoch 14/240\n",
      "324/324 [==============================] - 17s 52ms/step - loss: 0.0385 - dice_coef: 0.8676 - precision: 0.8828 - recall: 0.8695 - val_loss: 0.0383 - val_dice_coef: 0.8375 - val_precision: 0.8845 - val_recall: 0.8263\n",
      "Epoch 15/240\n",
      "324/324 [==============================] - 17s 52ms/step - loss: 0.0326 - dice_coef: 0.8751 - precision: 0.8888 - recall: 0.8772 - val_loss: 0.0353 - val_dice_coef: 0.8046 - val_precision: 0.9182 - val_recall: 0.7537\n",
      "Epoch 16/240\n",
      "324/324 [==============================] - 17s 52ms/step - loss: 0.0281 - dice_coef: 0.8670 - precision: 0.8829 - recall: 0.8691 - val_loss: 0.0293 - val_dice_coef: 0.8227 - val_precision: 0.8834 - val_recall: 0.8076\n",
      "Epoch 17/240\n",
      "324/324 [==============================] - 17s 52ms/step - loss: 0.0236 - dice_coef: 0.8800 - precision: 0.8942 - recall: 0.8833 - val_loss: 0.0251 - val_dice_coef: 0.8385 - val_precision: 0.9130 - val_recall: 0.8048\n",
      "Epoch 18/240\n",
      "324/324 [==============================] - 17s 53ms/step - loss: 0.0201 - dice_coef: 0.8905 - precision: 0.9070 - recall: 0.8886 - val_loss: 0.0233 - val_dice_coef: 0.8370 - val_precision: 0.8635 - val_recall: 0.8433\n",
      "Epoch 19/240\n",
      "324/324 [==============================] - 17s 52ms/step - loss: 0.0172 - dice_coef: 0.8981 - precision: 0.9133 - recall: 0.8968 - val_loss: 0.0208 - val_dice_coef: 0.8236 - val_precision: 0.9332 - val_recall: 0.7679\n",
      "Epoch 20/240\n",
      "324/324 [==============================] - 17s 52ms/step - loss: 0.0172 - dice_coef: 0.8696 - precision: 0.8867 - recall: 0.8732 - val_loss: 0.0403 - val_dice_coef: 0.5423 - val_precision: 0.9211 - val_recall: 0.4375\n",
      "Epoch 21/240\n",
      "324/324 [==============================] - 17s 51ms/step - loss: 0.0141 - dice_coef: 0.8874 - precision: 0.8975 - recall: 0.8913 - val_loss: 0.0170 - val_dice_coef: 0.8407 - val_precision: 0.8856 - val_recall: 0.8281\n",
      "Epoch 22/240\n",
      "324/324 [==============================] - 17s 51ms/step - loss: 0.0137 - dice_coef: 0.8729 - precision: 0.8897 - recall: 0.8755 - val_loss: 0.0168 - val_dice_coef: 0.8417 - val_precision: 0.8390 - val_recall: 0.8755\n",
      "Epoch 23/240\n",
      "324/324 [==============================] - 17s 53ms/step - loss: 0.0115 - dice_coef: 0.8867 - precision: 0.9021 - recall: 0.8899 - val_loss: 0.0191 - val_dice_coef: 0.7378 - val_precision: 0.9487 - val_recall: 0.6478\n",
      "Epoch 24/240\n",
      "324/324 [==============================] - 16s 50ms/step - loss: 0.0093 - dice_coef: 0.9089 - precision: 0.9214 - recall: 0.9058 - val_loss: 0.0135 - val_dice_coef: 0.8474 - val_precision: 0.9148 - val_recall: 0.8164\n",
      "Epoch 25/240\n",
      "324/324 [==============================] - 16s 50ms/step - loss: 0.0081 - dice_coef: 0.9183 - precision: 0.9305 - recall: 0.9139 - val_loss: 0.0133 - val_dice_coef: 0.8374 - val_precision: 0.9134 - val_recall: 0.8010\n",
      "Epoch 26/240\n",
      "324/324 [==============================] - 17s 51ms/step - loss: 0.0071 - dice_coef: 0.9224 - precision: 0.9371 - recall: 0.9161 - val_loss: 0.0134 - val_dice_coef: 0.8337 - val_precision: 0.9229 - val_recall: 0.7872\n",
      "Epoch 27/240\n",
      "324/324 [==============================] - 17s 51ms/step - loss: 0.0063 - dice_coef: 0.9271 - precision: 0.9398 - recall: 0.9217 - val_loss: 0.0131 - val_dice_coef: 0.8270 - val_precision: 0.9137 - val_recall: 0.7825\n",
      "Epoch 28/240\n",
      "324/324 [==============================] - 17s 52ms/step - loss: 0.0057 - dice_coef: 0.9287 - precision: 0.9435 - recall: 0.9212 - val_loss: 0.0130 - val_dice_coef: 0.8512 - val_precision: 0.9049 - val_recall: 0.8295\n",
      "Epoch 29/240\n",
      "324/324 [==============================] - 17s 52ms/step - loss: 0.0055 - dice_coef: 0.9264 - precision: 0.9396 - recall: 0.9220 - val_loss: 0.0117 - val_dice_coef: 0.8507 - val_precision: 0.8819 - val_recall: 0.8560\n",
      "Epoch 30/240\n",
      "324/324 [==============================] - 17s 51ms/step - loss: 0.0053 - dice_coef: 0.9195 - precision: 0.9378 - recall: 0.9118 - val_loss: 0.0130 - val_dice_coef: 0.8312 - val_precision: 0.8102 - val_recall: 0.8934\n",
      "Epoch 31/240\n",
      "324/324 [==============================] - 16s 51ms/step - loss: 0.0057 - dice_coef: 0.9103 - precision: 0.9240 - recall: 0.9072 - val_loss: 0.0118 - val_dice_coef: 0.8593 - val_precision: 0.8943 - val_recall: 0.8516\n",
      "Epoch 32/240\n",
      "324/324 [==============================] - 16s 51ms/step - loss: 0.0044 - dice_coef: 0.9294 - precision: 0.9439 - recall: 0.9231 - val_loss: 0.0123 - val_dice_coef: 0.8460 - val_precision: 0.9100 - val_recall: 0.8215\n",
      "Epoch 33/240\n",
      "324/324 [==============================] - 17s 51ms/step - loss: 0.0038 - dice_coef: 0.9356 - precision: 0.9488 - recall: 0.9297 - val_loss: 0.0122 - val_dice_coef: 0.8550 - val_precision: 0.8972 - val_recall: 0.8455\n",
      "Epoch 34/240\n",
      "324/324 [==============================] - 17s 51ms/step - loss: 0.0035 - dice_coef: 0.9423 - precision: 0.9518 - recall: 0.9334 - val_loss: 0.0114 - val_dice_coef: 0.8435 - val_precision: 0.9147 - val_recall: 0.8107\n",
      "Epoch 35/240\n",
      "324/324 [==============================] - 16s 50ms/step - loss: 0.0063 - dice_coef: 0.8854 - precision: 0.9051 - recall: 0.8886 - val_loss: 0.0130 - val_dice_coef: 0.8178 - val_precision: 0.8471 - val_recall: 0.8284\n",
      "Epoch 36/240\n",
      "324/324 [==============================] - 17s 51ms/step - loss: 0.0037 - dice_coef: 0.9300 - precision: 0.9448 - recall: 0.9227 - val_loss: 0.0103 - val_dice_coef: 0.8598 - val_precision: 0.8824 - val_recall: 0.8689\n"
     ]
    },
    {
     "name": "stdout",
     "output_type": "stream",
     "text": [
      "Epoch 37/240\n",
      "324/324 [==============================] - 17s 51ms/step - loss: 0.0031 - dice_coef: 0.9393 - precision: 0.9544 - recall: 0.9320 - val_loss: 0.0106 - val_dice_coef: 0.8597 - val_precision: 0.8836 - val_recall: 0.8654\n",
      "Epoch 38/240\n",
      "324/324 [==============================] - 17s 51ms/step - loss: 0.0028 - dice_coef: 0.9440 - precision: 0.9575 - recall: 0.9369 - val_loss: 0.0110 - val_dice_coef: 0.8574 - val_precision: 0.8986 - val_recall: 0.8480\n",
      "Epoch 39/240\n",
      "324/324 [==============================] - 17s 51ms/step - loss: 0.0027 - dice_coef: 0.9454 - precision: 0.9594 - recall: 0.9386 - val_loss: 0.0138 - val_dice_coef: 0.8153 - val_precision: 0.9313 - val_recall: 0.7672\n",
      "Epoch 40/240\n",
      "324/324 [==============================] - 17s 51ms/step - loss: 0.0027 - dice_coef: 0.9466 - precision: 0.9564 - recall: 0.9377 - val_loss: 0.0120 - val_dice_coef: 0.8377 - val_precision: 0.9220 - val_recall: 0.7987\n",
      "Epoch 41/240\n",
      "324/324 [==============================] - 17s 51ms/step - loss: 0.0027 - dice_coef: 0.9426 - precision: 0.9562 - recall: 0.9364 - val_loss: 0.0113 - val_dice_coef: 0.8522 - val_precision: 0.8950 - val_recall: 0.8441\n",
      "Epoch 42/240\n",
      "324/324 [==============================] - 17s 51ms/step - loss: 0.0025 - dice_coef: 0.9470 - precision: 0.9579 - recall: 0.9378 - val_loss: 0.0116 - val_dice_coef: 0.8496 - val_precision: 0.9077 - val_recall: 0.8286\n",
      "Epoch 43/240\n",
      "324/324 [==============================] - 17s 51ms/step - loss: 0.0026 - dice_coef: 0.9423 - precision: 0.9547 - recall: 0.9378 - val_loss: 0.0113 - val_dice_coef: 0.8304 - val_precision: 0.9157 - val_recall: 0.7987\n",
      "Epoch 44/240\n",
      "324/324 [==============================] - 17s 51ms/step - loss: 0.0039 - dice_coef: 0.9184 - precision: 0.9317 - recall: 0.9174 - val_loss: 0.0161 - val_dice_coef: 0.7566 - val_precision: 0.7536 - val_recall: 0.8035\n",
      "Epoch 45/240\n",
      "324/324 [==============================] - 16s 51ms/step - loss: 0.0062 - dice_coef: 0.8859 - precision: 0.9028 - recall: 0.8930 - val_loss: 0.0097 - val_dice_coef: 0.8521 - val_precision: 0.9053 - val_recall: 0.8350\n",
      "Epoch 46/240\n",
      "324/324 [==============================] - 16s 51ms/step - loss: 0.0028 - dice_coef: 0.9379 - precision: 0.9498 - recall: 0.9338 - val_loss: 0.0102 - val_dice_coef: 0.8595 - val_precision: 0.8980 - val_recall: 0.8513\n",
      "Epoch 47/240\n",
      "324/324 [==============================] - 17s 51ms/step - loss: 0.0023 - dice_coef: 0.9474 - precision: 0.9604 - recall: 0.9409 - val_loss: 0.0107 - val_dice_coef: 0.8625 - val_precision: 0.8944 - val_recall: 0.8593\n",
      "Epoch 48/240\n",
      "324/324 [==============================] - 17s 51ms/step - loss: 0.0021 - dice_coef: 0.9542 - precision: 0.9645 - recall: 0.9449 - val_loss: 0.0116 - val_dice_coef: 0.8574 - val_precision: 0.9083 - val_recall: 0.8378\n",
      "Epoch 49/240\n",
      "324/324 [==============================] - 17s 51ms/step - loss: 0.0020 - dice_coef: 0.9567 - precision: 0.9669 - recall: 0.9477 - val_loss: 0.0119 - val_dice_coef: 0.8538 - val_precision: 0.9075 - val_recall: 0.8349\n",
      "Epoch 50/240\n",
      "324/324 [==============================] - 17s 52ms/step - loss: 0.0019 - dice_coef: 0.9576 - precision: 0.9677 - recall: 0.9488 - val_loss: 0.0116 - val_dice_coef: 0.8658 - val_precision: 0.8961 - val_recall: 0.8635\n",
      "Epoch 51/240\n",
      "324/324 [==============================] - 16s 51ms/step - loss: 0.0020 - dice_coef: 0.9523 - precision: 0.9664 - recall: 0.9460 - val_loss: 0.0125 - val_dice_coef: 0.8405 - val_precision: 0.9131 - val_recall: 0.8100\n",
      "Epoch 52/240\n",
      "324/324 [==============================] - 17s 54ms/step - loss: 0.0022 - dice_coef: 0.9494 - precision: 0.9627 - recall: 0.9437 - val_loss: 0.0108 - val_dice_coef: 0.8633 - val_precision: 0.8884 - val_recall: 0.8661\n",
      "Epoch 53/240\n",
      "324/324 [==============================] - 18s 56ms/step - loss: 0.0020 - dice_coef: 0.9538 - precision: 0.9640 - recall: 0.9450 - val_loss: 0.0125 - val_dice_coef: 0.8537 - val_precision: 0.9084 - val_recall: 0.8307\n",
      "Epoch 54/240\n",
      "324/324 [==============================] - 17s 54ms/step - loss: 0.0020 - dice_coef: 0.9516 - precision: 0.9657 - recall: 0.9452 - val_loss: 0.0115 - val_dice_coef: 0.8588 - val_precision: 0.9097 - val_recall: 0.8393\n",
      "Epoch 55/240\n",
      "324/324 [==============================] - 17s 52ms/step - loss: 0.0020 - dice_coef: 0.9540 - precision: 0.9642 - recall: 0.9462 - val_loss: 0.0118 - val_dice_coef: 0.8567 - val_precision: 0.9011 - val_recall: 0.8454\n",
      "Epoch 56/240\n",
      "324/324 [==============================] - 17s 51ms/step - loss: 0.0020 - dice_coef: 0.9521 - precision: 0.9626 - recall: 0.9441 - val_loss: 0.0113 - val_dice_coef: 0.8627 - val_precision: 0.8694 - val_recall: 0.8859\n",
      "Epoch 57/240\n",
      "324/324 [==============================] - 17s 52ms/step - loss: 0.0021 - dice_coef: 0.9492 - precision: 0.9626 - recall: 0.9441 - val_loss: 0.0119 - val_dice_coef: 0.8600 - val_precision: 0.8866 - val_recall: 0.8613\n",
      "Epoch 58/240\n",
      "324/324 [==============================] - 17s 52ms/step - loss: 0.0038 - dice_coef: 0.9195 - precision: 0.9365 - recall: 0.9173 - val_loss: 0.0156 - val_dice_coef: 0.8181 - val_precision: 0.8993 - val_recall: 0.7943\n",
      "Epoch 59/240\n",
      "324/324 [==============================] - 17s 51ms/step - loss: 0.0025 - dice_coef: 0.9401 - precision: 0.9534 - recall: 0.9357 - val_loss: 0.0111 - val_dice_coef: 0.8609 - val_precision: 0.8817 - val_recall: 0.8695\n",
      "Epoch 60/240\n",
      "324/324 [==============================] - 16s 51ms/step - loss: 0.0020 - dice_coef: 0.9547 - precision: 0.9637 - recall: 0.9473 - val_loss: 0.0120 - val_dice_coef: 0.8492 - val_precision: 0.9047 - val_recall: 0.8348\n",
      "Epoch 61/240\n",
      "324/324 [==============================] - 17s 51ms/step - loss: 0.0021 - dice_coef: 0.9481 - precision: 0.9614 - recall: 0.9438 - val_loss: 0.0114 - val_dice_coef: 0.8589 - val_precision: 0.8770 - val_recall: 0.8732\n",
      "Epoch 62/240\n",
      "324/324 [==============================] - 17s 52ms/step - loss: 0.0018 - dice_coef: 0.9577 - precision: 0.9687 - recall: 0.9489 - val_loss: 0.0117 - val_dice_coef: 0.8627 - val_precision: 0.8832 - val_recall: 0.8716\n",
      "Epoch 63/240\n",
      "324/324 [==============================] - 17s 51ms/step - loss: 0.0017 - dice_coef: 0.9607 - precision: 0.9709 - recall: 0.9522 - val_loss: 0.0123 - val_dice_coef: 0.8592 - val_precision: 0.8709 - val_recall: 0.8782\n",
      "Epoch 64/240\n",
      "324/324 [==============================] - 17s 52ms/step - loss: 0.0016 - dice_coef: 0.9615 - precision: 0.9720 - recall: 0.9530 - val_loss: 0.0128 - val_dice_coef: 0.8609 - val_precision: 0.8631 - val_recall: 0.8884\n",
      "Epoch 65/240\n",
      "324/324 [==============================] - 17s 51ms/step - loss: 0.0017 - dice_coef: 0.9606 - precision: 0.9727 - recall: 0.9514 - val_loss: 0.0128 - val_dice_coef: 0.8580 - val_precision: 0.8698 - val_recall: 0.8774\n",
      "Epoch 66/240\n",
      "324/324 [==============================] - 17s 51ms/step - loss: 0.0018 - dice_coef: 0.9589 - precision: 0.9698 - recall: 0.9501 - val_loss: 0.0129 - val_dice_coef: 0.8627 - val_precision: 0.8570 - val_recall: 0.8986\n",
      "Epoch 67/240\n",
      "324/324 [==============================] - 17s 51ms/step - loss: 0.0028 - dice_coef: 0.9420 - precision: 0.9537 - recall: 0.9362 - val_loss: 0.0144 - val_dice_coef: 0.7724 - val_precision: 0.7645 - val_recall: 0.8162\n",
      "Epoch 68/240\n",
      "324/324 [==============================] - 16s 51ms/step - loss: 0.0046 - dice_coef: 0.9048 - precision: 0.9198 - recall: 0.9064 - val_loss: 0.0114 - val_dice_coef: 0.8498 - val_precision: 0.8901 - val_recall: 0.8405\n",
      "Epoch 69/240\n",
      "324/324 [==============================] - 16s 51ms/step - loss: 0.0020 - dice_coef: 0.9532 - precision: 0.9639 - recall: 0.9443 - val_loss: 0.0114 - val_dice_coef: 0.8613 - val_precision: 0.8721 - val_recall: 0.8774\n",
      "Epoch 70/240\n",
      "324/324 [==============================] - 17s 54ms/step - loss: 0.0017 - dice_coef: 0.9600 - precision: 0.9699 - recall: 0.9516 - val_loss: 0.0121 - val_dice_coef: 0.8611 - val_precision: 0.8825 - val_recall: 0.8688\n",
      "Epoch 71/240\n",
      "324/324 [==============================] - 16s 51ms/step - loss: 0.0016 - dice_coef: 0.9624 - precision: 0.9723 - recall: 0.9543 - val_loss: 0.0125 - val_dice_coef: 0.8607 - val_precision: 0.8820 - val_recall: 0.8706\n",
      "Epoch 72/240\n",
      "324/324 [==============================] - 17s 51ms/step - loss: 0.0015 - dice_coef: 0.9640 - precision: 0.9745 - recall: 0.9559 - val_loss: 0.0130 - val_dice_coef: 0.8583 - val_precision: 0.8856 - val_recall: 0.8639\n"
     ]
    },
    {
     "name": "stdout",
     "output_type": "stream",
     "text": [
      "Epoch 73/240\n",
      "324/324 [==============================] - 16s 51ms/step - loss: 0.0015 - dice_coef: 0.9652 - precision: 0.9760 - recall: 0.9567 - val_loss: 0.0130 - val_dice_coef: 0.8616 - val_precision: 0.8785 - val_recall: 0.8742\n",
      "Epoch 74/240\n",
      "324/324 [==============================] - 17s 51ms/step - loss: 0.0015 - dice_coef: 0.9652 - precision: 0.9765 - recall: 0.9562 - val_loss: 0.0139 - val_dice_coef: 0.8554 - val_precision: 0.8888 - val_recall: 0.8555\n",
      "Epoch 75/240\n",
      "324/324 [==============================] - 16s 51ms/step - loss: 0.0015 - dice_coef: 0.9635 - precision: 0.9737 - recall: 0.9553 - val_loss: 0.0127 - val_dice_coef: 0.8617 - val_precision: 0.8701 - val_recall: 0.8812\n",
      "Epoch 76/240\n",
      "324/324 [==============================] - 17s 51ms/step - loss: 0.0016 - dice_coef: 0.9624 - precision: 0.9728 - recall: 0.9542 - val_loss: 0.0130 - val_dice_coef: 0.8503 - val_precision: 0.8997 - val_recall: 0.8404\n",
      "Epoch 77/240\n",
      "324/324 [==============================] - 17s 51ms/step - loss: 0.0016 - dice_coef: 0.9619 - precision: 0.9723 - recall: 0.9539 - val_loss: 0.0130 - val_dice_coef: 0.8575 - val_precision: 0.8951 - val_recall: 0.8549\n",
      "Epoch 78/240\n",
      "324/324 [==============================] - 17s 51ms/step - loss: 0.0016 - dice_coef: 0.9619 - precision: 0.9731 - recall: 0.9532 - val_loss: 0.0124 - val_dice_coef: 0.8540 - val_precision: 0.8835 - val_recall: 0.8599\n",
      "Epoch 79/240\n",
      "324/324 [==============================] - 17s 52ms/step - loss: 0.0017 - dice_coef: 0.9573 - precision: 0.9702 - recall: 0.9527 - val_loss: 0.0133 - val_dice_coef: 0.8334 - val_precision: 0.8855 - val_recall: 0.8201\n",
      "Epoch 80/240\n",
      "324/324 [==============================] - 17s 51ms/step - loss: 0.0017 - dice_coef: 0.9601 - precision: 0.9697 - recall: 0.9528 - val_loss: 0.0129 - val_dice_coef: 0.8589 - val_precision: 0.8583 - val_recall: 0.8900\n",
      "Epoch 81/240\n",
      "324/324 [==============================] - 17s 52ms/step - loss: 0.0043 - dice_coef: 0.9089 - precision: 0.9288 - recall: 0.9072 - val_loss: 0.0115 - val_dice_coef: 0.8532 - val_precision: 0.8274 - val_recall: 0.9101\n",
      "Epoch 82/240\n",
      "324/324 [==============================] - 17s 51ms/step - loss: 0.0021 - dice_coef: 0.9491 - precision: 0.9616 - recall: 0.9450 - val_loss: 0.0112 - val_dice_coef: 0.8675 - val_precision: 0.8536 - val_recall: 0.9088\n",
      "Epoch 83/240\n",
      "324/324 [==============================] - 17s 52ms/step - loss: 0.0016 - dice_coef: 0.9592 - precision: 0.9730 - recall: 0.9540 - val_loss: 0.0125 - val_dice_coef: 0.8678 - val_precision: 0.8652 - val_recall: 0.8962\n",
      "Epoch 84/240\n",
      "324/324 [==============================] - 17s 52ms/step - loss: 0.0014 - dice_coef: 0.9630 - precision: 0.9772 - recall: 0.9577 - val_loss: 0.0131 - val_dice_coef: 0.8680 - val_precision: 0.8808 - val_recall: 0.8822\n",
      "Epoch 85/240\n",
      "324/324 [==============================] - 17s 52ms/step - loss: 0.0014 - dice_coef: 0.9679 - precision: 0.9789 - recall: 0.9595 - val_loss: 0.0136 - val_dice_coef: 0.8664 - val_precision: 0.8862 - val_recall: 0.8747\n",
      "Epoch 86/240\n",
      "324/324 [==============================] - 16s 51ms/step - loss: 0.0013 - dice_coef: 0.9691 - precision: 0.9805 - recall: 0.9609 - val_loss: 0.0142 - val_dice_coef: 0.8660 - val_precision: 0.8924 - val_recall: 0.8669\n",
      "Epoch 87/240\n",
      "324/324 [==============================] - 17s 52ms/step - loss: 0.0013 - dice_coef: 0.9694 - precision: 0.9808 - recall: 0.9610 - val_loss: 0.0141 - val_dice_coef: 0.8624 - val_precision: 0.8927 - val_recall: 0.8623\n",
      "Epoch 88/240\n",
      "324/324 [==============================] - 17s 52ms/step - loss: 0.0014 - dice_coef: 0.9684 - precision: 0.9794 - recall: 0.9604 - val_loss: 0.0144 - val_dice_coef: 0.8660 - val_precision: 0.8862 - val_recall: 0.8724\n",
      "Epoch 89/240\n",
      "324/324 [==============================] - 17s 51ms/step - loss: 0.0015 - dice_coef: 0.9645 - precision: 0.9761 - recall: 0.9561 - val_loss: 0.0125 - val_dice_coef: 0.8702 - val_precision: 0.8824 - val_recall: 0.8800\n",
      "Epoch 90/240\n",
      "324/324 [==============================] - 16s 51ms/step - loss: 0.0016 - dice_coef: 0.9598 - precision: 0.9734 - recall: 0.9547 - val_loss: 0.0150 - val_dice_coef: 0.8474 - val_precision: 0.9261 - val_recall: 0.8047\n",
      "Epoch 91/240\n",
      "324/324 [==============================] - 17s 51ms/step - loss: 0.0016 - dice_coef: 0.9626 - precision: 0.9736 - recall: 0.9540 - val_loss: 0.0139 - val_dice_coef: 0.8537 - val_precision: 0.9101 - val_recall: 0.8280\n",
      "Epoch 92/240\n",
      "324/324 [==============================] - 17s 52ms/step - loss: 0.0015 - dice_coef: 0.9646 - precision: 0.9749 - recall: 0.9573 - val_loss: 0.0138 - val_dice_coef: 0.8454 - val_precision: 0.9204 - val_recall: 0.8105\n",
      "Epoch 93/240\n",
      "324/324 [==============================] - 17s 52ms/step - loss: 0.0015 - dice_coef: 0.9652 - precision: 0.9758 - recall: 0.9580 - val_loss: 0.0157 - val_dice_coef: 0.8381 - val_precision: 0.9250 - val_recall: 0.7986\n",
      "Epoch 94/240\n",
      "324/324 [==============================] - 17s 51ms/step - loss: 0.0014 - dice_coef: 0.9662 - precision: 0.9766 - recall: 0.9592 - val_loss: 0.0141 - val_dice_coef: 0.8501 - val_precision: 0.9116 - val_recall: 0.8229\n",
      "Epoch 95/240\n",
      "324/324 [==============================] - 17s 52ms/step - loss: 0.0033 - dice_coef: 0.9357 - precision: 0.9501 - recall: 0.9343 - val_loss: 0.0331 - val_dice_coef: 0.6375 - val_precision: 0.5290 - val_recall: 0.9172\n",
      "Epoch 96/240\n",
      "324/324 [==============================] - 16s 51ms/step - loss: 0.0034 - dice_coef: 0.9270 - precision: 0.9422 - recall: 0.9241 - val_loss: 0.0115 - val_dice_coef: 0.8543 - val_precision: 0.8896 - val_recall: 0.8499\n",
      "Epoch 97/240\n",
      "324/324 [==============================] - 17s 51ms/step - loss: 0.0017 - dice_coef: 0.9602 - precision: 0.9708 - recall: 0.9523 - val_loss: 0.0122 - val_dice_coef: 0.8573 - val_precision: 0.8765 - val_recall: 0.8707\n",
      "Epoch 98/240\n",
      "324/324 [==============================] - 17s 51ms/step - loss: 0.0015 - dice_coef: 0.9661 - precision: 0.9769 - recall: 0.9582 - val_loss: 0.0132 - val_dice_coef: 0.8561 - val_precision: 0.8802 - val_recall: 0.8655\n",
      "Epoch 99/240\n",
      "324/324 [==============================] - 17s 52ms/step - loss: 0.0013 - dice_coef: 0.9688 - precision: 0.9800 - recall: 0.9609 - val_loss: 0.0138 - val_dice_coef: 0.8554 - val_precision: 0.8817 - val_recall: 0.8633\n",
      "Epoch 100/240\n",
      "324/324 [==============================] - 17s 51ms/step - loss: 0.0013 - dice_coef: 0.9704 - precision: 0.9820 - recall: 0.9625 - val_loss: 0.0142 - val_dice_coef: 0.8556 - val_precision: 0.8803 - val_recall: 0.8645\n",
      "Epoch 101/240\n",
      "324/324 [==============================] - 17s 51ms/step - loss: 0.0012 - dice_coef: 0.9714 - precision: 0.9833 - recall: 0.9635 - val_loss: 0.0146 - val_dice_coef: 0.8565 - val_precision: 0.8818 - val_recall: 0.8642\n",
      "Epoch 102/240\n",
      "324/324 [==============================] - 17s 51ms/step - loss: 0.0012 - dice_coef: 0.9721 - precision: 0.9841 - recall: 0.9643 - val_loss: 0.0149 - val_dice_coef: 0.8544 - val_precision: 0.8801 - val_recall: 0.8635\n",
      "Epoch 103/240\n",
      "324/324 [==============================] - 17s 51ms/step - loss: 0.0012 - dice_coef: 0.9723 - precision: 0.9844 - recall: 0.9643 - val_loss: 0.0151 - val_dice_coef: 0.8559 - val_precision: 0.8846 - val_recall: 0.8599\n",
      "Epoch 104/240\n",
      "324/324 [==============================] - 17s 52ms/step - loss: 0.0012 - dice_coef: 0.9708 - precision: 0.9824 - recall: 0.9632 - val_loss: 0.0143 - val_dice_coef: 0.8602 - val_precision: 0.8728 - val_recall: 0.8759\n",
      "Epoch 105/240\n",
      "324/324 [==============================] - 16s 51ms/step - loss: 0.0013 - dice_coef: 0.9688 - precision: 0.9807 - recall: 0.9601 - val_loss: 0.0137 - val_dice_coef: 0.8553 - val_precision: 0.8852 - val_recall: 0.8554\n",
      "Epoch 106/240\n",
      "324/324 [==============================] - 17s 51ms/step - loss: 0.0014 - dice_coef: 0.9679 - precision: 0.9781 - recall: 0.9617 - val_loss: 0.0143 - val_dice_coef: 0.8509 - val_precision: 0.9069 - val_recall: 0.8307\n",
      "Epoch 107/240\n",
      "324/324 [==============================] - 17s 52ms/step - loss: 0.0013 - dice_coef: 0.9689 - precision: 0.9805 - recall: 0.9613 - val_loss: 0.0144 - val_dice_coef: 0.8417 - val_precision: 0.9015 - val_recall: 0.8266\n",
      "Epoch 108/240\n"
     ]
    },
    {
     "name": "stdout",
     "output_type": "stream",
     "text": [
      "324/324 [==============================] - 17s 52ms/step - loss: 0.0013 - dice_coef: 0.9686 - precision: 0.9788 - recall: 0.9618 - val_loss: 0.0139 - val_dice_coef: 0.8430 - val_precision: 0.8775 - val_recall: 0.8379\n",
      "Epoch 109/240\n",
      "324/324 [==============================] - 16s 51ms/step - loss: 0.0014 - dice_coef: 0.9660 - precision: 0.9773 - recall: 0.9582 - val_loss: 0.0135 - val_dice_coef: 0.8541 - val_precision: 0.8714 - val_recall: 0.8705\n",
      "Epoch 110/240\n",
      "324/324 [==============================] - 16s 51ms/step - loss: 0.0015 - dice_coef: 0.9644 - precision: 0.9753 - recall: 0.9569 - val_loss: 0.0141 - val_dice_coef: 0.8584 - val_precision: 0.8460 - val_recall: 0.8982\n",
      "Epoch 111/240\n",
      "324/324 [==============================] - 16s 50ms/step - loss: 0.0015 - dice_coef: 0.9636 - precision: 0.9758 - recall: 0.9555 - val_loss: 0.0142 - val_dice_coef: 0.8589 - val_precision: 0.8675 - val_recall: 0.8759\n",
      "Epoch 112/240\n",
      "324/324 [==============================] - 16s 50ms/step - loss: 0.0015 - dice_coef: 0.9652 - precision: 0.9757 - recall: 0.9580 - val_loss: 0.0142 - val_dice_coef: 0.8576 - val_precision: 0.8680 - val_recall: 0.8748\n",
      "Epoch 113/240\n",
      "324/324 [==============================] - 16s 50ms/step - loss: 0.0014 - dice_coef: 0.9663 - precision: 0.9768 - recall: 0.9594 - val_loss: 0.0147 - val_dice_coef: 0.8531 - val_precision: 0.8746 - val_recall: 0.8618\n",
      "Epoch 114/240\n",
      "324/324 [==============================] - 16s 50ms/step - loss: 0.0013 - dice_coef: 0.9684 - precision: 0.9794 - recall: 0.9611 - val_loss: 0.0146 - val_dice_coef: 0.8630 - val_precision: 0.8865 - val_recall: 0.8668\n",
      "Epoch 115/240\n",
      "324/324 [==============================] - 16s 50ms/step - loss: 0.0013 - dice_coef: 0.9694 - precision: 0.9806 - recall: 0.9620 - val_loss: 0.0146 - val_dice_coef: 0.8582 - val_precision: 0.8974 - val_recall: 0.8519\n",
      "Epoch 116/240\n",
      "324/324 [==============================] - 16s 50ms/step - loss: 0.0013 - dice_coef: 0.9693 - precision: 0.9803 - recall: 0.9625 - val_loss: 0.0149 - val_dice_coef: 0.8496 - val_precision: 0.8901 - val_recall: 0.8404\n",
      "Epoch 117/240\n",
      "324/324 [==============================] - 16s 50ms/step - loss: 0.0014 - dice_coef: 0.9681 - precision: 0.9796 - recall: 0.9596 - val_loss: 0.0149 - val_dice_coef: 0.8586 - val_precision: 0.8862 - val_recall: 0.8560\n",
      "Epoch 118/240\n",
      "324/324 [==============================] - 16s 50ms/step - loss: 0.0014 - dice_coef: 0.9676 - precision: 0.9786 - recall: 0.9602 - val_loss: 0.0152 - val_dice_coef: 0.8600 - val_precision: 0.8918 - val_recall: 0.8550\n",
      "Epoch 119/240\n",
      "324/324 [==============================] - 16s 50ms/step - loss: 0.0014 - dice_coef: 0.9673 - precision: 0.9770 - recall: 0.9608 - val_loss: 0.0163 - val_dice_coef: 0.8382 - val_precision: 0.9152 - val_recall: 0.8034\n",
      "Epoch 120/240\n",
      "324/324 [==============================] - 16s 50ms/step - loss: 0.0014 - dice_coef: 0.9670 - precision: 0.9769 - recall: 0.9612 - val_loss: 0.0159 - val_dice_coef: 0.8343 - val_precision: 0.9045 - val_recall: 0.8103\n",
      "Epoch 121/240\n",
      "324/324 [==============================] - 16s 50ms/step - loss: 0.0045 - dice_coef: 0.9137 - precision: 0.9277 - recall: 0.9199 - val_loss: 0.0113 - val_dice_coef: 0.8543 - val_precision: 0.8721 - val_recall: 0.8644\n",
      "Epoch 122/240\n",
      "324/324 [==============================] - 16s 50ms/step - loss: 0.0018 - dice_coef: 0.9557 - precision: 0.9700 - recall: 0.9499 - val_loss: 0.0130 - val_dice_coef: 0.8652 - val_precision: 0.8933 - val_recall: 0.8627\n",
      "Epoch 123/240\n",
      "324/324 [==============================] - 16s 50ms/step - loss: 0.0014 - dice_coef: 0.9679 - precision: 0.9796 - recall: 0.9595 - val_loss: 0.0142 - val_dice_coef: 0.8631 - val_precision: 0.8957 - val_recall: 0.8581\n",
      "Epoch 124/240\n",
      "324/324 [==============================] - 16s 50ms/step - loss: 0.0012 - dice_coef: 0.9713 - precision: 0.9829 - recall: 0.9633 - val_loss: 0.0151 - val_dice_coef: 0.8599 - val_precision: 0.8994 - val_recall: 0.8515\n",
      "Epoch 125/240\n",
      "324/324 [==============================] - 16s 50ms/step - loss: 0.0012 - dice_coef: 0.9730 - precision: 0.9847 - recall: 0.9652 - val_loss: 0.0157 - val_dice_coef: 0.8583 - val_precision: 0.9004 - val_recall: 0.8482\n",
      "Epoch 126/240\n",
      "324/324 [==============================] - 16s 50ms/step - loss: 0.0011 - dice_coef: 0.9740 - precision: 0.9860 - recall: 0.9665 - val_loss: 0.0162 - val_dice_coef: 0.8574 - val_precision: 0.9006 - val_recall: 0.8470\n",
      "Epoch 127/240\n",
      "324/324 [==============================] - 16s 50ms/step - loss: 0.0011 - dice_coef: 0.9748 - precision: 0.9870 - recall: 0.9674 - val_loss: 0.0166 - val_dice_coef: 0.8555 - val_precision: 0.9016 - val_recall: 0.8434\n",
      "Epoch 128/240\n",
      "324/324 [==============================] - 16s 50ms/step - loss: 0.0010 - dice_coef: 0.9754 - precision: 0.9876 - recall: 0.9681 - val_loss: 0.0167 - val_dice_coef: 0.8566 - val_precision: 0.9005 - val_recall: 0.8451\n",
      "Epoch 129/240\n",
      "324/324 [==============================] - 16s 50ms/step - loss: 0.0010 - dice_coef: 0.9757 - precision: 0.9879 - recall: 0.9684 - val_loss: 0.0170 - val_dice_coef: 0.8560 - val_precision: 0.9030 - val_recall: 0.8428\n",
      "Epoch 130/240\n",
      "324/324 [==============================] - 16s 50ms/step - loss: 0.0010 - dice_coef: 0.9756 - precision: 0.9878 - recall: 0.9683 - val_loss: 0.0160 - val_dice_coef: 0.8600 - val_precision: 0.8986 - val_recall: 0.8515\n",
      "Epoch 131/240\n",
      "324/324 [==============================] - 16s 50ms/step - loss: 0.0011 - dice_coef: 0.9740 - precision: 0.9860 - recall: 0.9667 - val_loss: 0.0163 - val_dice_coef: 0.8545 - val_precision: 0.9033 - val_recall: 0.8396\n",
      "Epoch 132/240\n",
      "324/324 [==============================] - 17s 51ms/step - loss: 0.0012 - dice_coef: 0.9730 - precision: 0.9847 - recall: 0.9657 - val_loss: 0.0148 - val_dice_coef: 0.8605 - val_precision: 0.8911 - val_recall: 0.8554\n",
      "Epoch 133/240\n",
      "324/324 [==============================] - 16s 51ms/step - loss: 0.0012 - dice_coef: 0.9725 - precision: 0.9832 - recall: 0.9657 - val_loss: 0.0158 - val_dice_coef: 0.8489 - val_precision: 0.9061 - val_recall: 0.8298\n",
      "Epoch 134/240\n",
      "324/324 [==============================] - 16s 51ms/step - loss: 0.0012 - dice_coef: 0.9715 - precision: 0.9826 - recall: 0.9651 - val_loss: 0.0161 - val_dice_coef: 0.8456 - val_precision: 0.9086 - val_recall: 0.8222\n",
      "Epoch 135/240\n",
      "324/324 [==============================] - 16s 51ms/step - loss: 0.0012 - dice_coef: 0.9722 - precision: 0.9843 - recall: 0.9647 - val_loss: 0.0152 - val_dice_coef: 0.8630 - val_precision: 0.8740 - val_recall: 0.8753\n",
      "Epoch 136/240\n",
      "324/324 [==============================] - 16s 51ms/step - loss: 0.0012 - dice_coef: 0.9729 - precision: 0.9848 - recall: 0.9659 - val_loss: 0.0153 - val_dice_coef: 0.8620 - val_precision: 0.8772 - val_recall: 0.8716\n",
      "Epoch 137/240\n",
      "324/324 [==============================] - 16s 51ms/step - loss: 0.0012 - dice_coef: 0.9729 - precision: 0.9843 - recall: 0.9663 - val_loss: 0.0151 - val_dice_coef: 0.8565 - val_precision: 0.8919 - val_recall: 0.8498\n",
      "Epoch 138/240\n",
      "324/324 [==============================] - 16s 51ms/step - loss: 0.0012 - dice_coef: 0.9716 - precision: 0.9822 - recall: 0.9656 - val_loss: 0.0163 - val_dice_coef: 0.8459 - val_precision: 0.9020 - val_recall: 0.8281\n",
      "Epoch 139/240\n",
      "324/324 [==============================] - 16s 51ms/step - loss: 0.0012 - dice_coef: 0.9706 - precision: 0.9815 - recall: 0.9647 - val_loss: 0.0151 - val_dice_coef: 0.8550 - val_precision: 0.8716 - val_recall: 0.8667\n"
     ]
    }
   ],
   "source": [
    "# Treinamento\n",
    "start = time.time()\n",
    "model.compile(optimizer=Adam(lr=learning_rate), loss=loss, metrics=[dice_coef, precision, recall])\n",
    "training_history = model.fit_generator(data_gen.generate_data(batch_size=batch_size, train=True),\n",
    "                                       steps_per_epoch=int(data_gen.get_num_data_points(train=True) / batch_size),\n",
    "                                       callbacks=callbacks,\n",
    "                                       validation_data=data_gen.generate_data(batch_size=batch_size, val=True),\n",
    "                                       validation_steps=int(data_gen.get_num_data_points(val=True) / batch_size),\n",
    "                                       epochs=epochs)\n",
    "end = time.time()\n",
    "file = open(modelDirPath + modelName +\"Time.txt\", \"w\")\n",
    "file.write(\"Treinamento\\n\")\n",
    "file.write(str(end-start))\n",
    "file.close()"
   ]
  },
  {
   "cell_type": "code",
   "execution_count": 16,
   "metadata": {
    "colab": {
     "base_uri": "https://localhost:8080/",
     "height": 312
    },
    "id": "7PQRnZHJ7nD8",
    "outputId": "0d306ee7-5724-4790-b04c-a6b1bf163428"
   },
   "outputs": [
    {
     "data": {
      "image/png": "[encoded data removed]",
      "text/plain": [
       "<Figure size 640x480 with 1 Axes>"
      ]
     },
     "metadata": {},
     "output_type": "display_data"
    },
    {
     "data": {
      "text/plain": [
       "<Figure size 640x480 with 0 Axes>"
      ]
     },
     "metadata": {},
     "output_type": "display_data"
    }
   ],
   "source": [
    "# Salva o modelo e o historico de treinamento TROCA O NOME\n",
    "save_history(model, model_name, training_history, dataset, n_filters, epochs, learning_rate, loss, color_space='RGB',\n",
    "             path= modelDirPath + \"training_history/\", name= modelName + \"modelfile\")"
   ]
  },
  {
   "cell_type": "markdown",
   "metadata": {
    "id": "kLN2sWSc_s87"
   },
   "source": [
    "<h3>Predicao</h3>"
   ]
  },
  {
   "cell_type": "code",
   "execution_count": 17,
   "metadata": {
    "id": "_O5QEKXu_yYP"
   },
   "outputs": [],
   "source": [
    "# Configuracao\n",
    "color_space = 'rgb'\n",
    "weight_file_name = modelName + 'modelfile.hdf5'\n",
    "pred_save_path = modelDirPath + 'datapredict/'\n",
    "path = 'woundSegmentation/data/' + dataset + '/'\n",
    "data_gen = DataGen(path, split_ratio=0.0, x=input_dim_x, y=input_dim_y, color_space=color_space)\n",
    "x_test, test_label_filenames_list = load_test_images(path)"
   ]
  },
  {
   "cell_type": "code",
   "execution_count": 18,
   "metadata": {
    "id": "Esinffm3_-43"
   },
   "outputs": [],
   "source": [
    "model = load_model(modelDirPath + 'training_history/' + weight_file_name\n",
    "               , custom_objects={'recall':recall,\n",
    "                                 'precision':precision,\n",
    "                                 'dice_coef': dice_coef,\n",
    "                                 'relu6':relu6,\n",
    "                                 'DepthwiseConv2D':DepthwiseConv2D,\n",
    "                                 'BilinearUpsampling':BilinearUpsampling})"
   ]
  },
  {
   "cell_type": "code",
   "execution_count": 19,
   "metadata": {
    "colab": {
     "base_uri": "https://localhost:8080/"
    },
    "id": "pWAbaQKhAY34",
    "outputId": "78f91da5-b8f0-470e-a795-71f1b592dd2a"
   },
   "outputs": [
    {
     "name": "stdout",
     "output_type": "stream",
     "text": [
      "7/7 [==============================] - 5s 292ms/step\n"
     ]
    }
   ],
   "source": [
    "start = time.time()\n",
    "for image_batch, label_batch in data_gen.generate_data(batch_size=len(x_test), test = True):\n",
    "    prediction = model.predict(image_batch, verbose=1)\n",
    "    save_results(prediction, 'rgb', pred_save_path, test_label_filenames_list)\n",
    "    break\n",
    "end = time.time()\n",
    "file = open(modelDirPath + modelName +\"TimePred.txt\", \"w\")\n",
    "file.write(\"\\n\")\n",
    "file.write(\"Predicao\\n\")\n",
    "file.write(str(end-start))\n",
    "file.close()"
   ]
  },
  {
   "cell_type": "code",
   "execution_count": null,
   "metadata": {},
   "outputs": [],
   "source": []
  }
 ],
 "metadata": {
  "accelerator": "GPU",
  "colab": {
   "collapsed_sections": [],
   "provenance": []
  },
  "kernelspec": {
   "display_name": "Python 3 (ipykernel)",
   "language": "python",
   "name": "python3"
  },
  "language_info": {
   "codemirror_mode": {
    "name": "ipython",
    "version": 3
   },
   "file_extension": ".py",
   "mimetype": "text/x-python",
   "name": "python",
   "nbconvert_exporter": "python",
   "pygments_lexer": "ipython3",
   "version": "3.8.13"
  },
  "vscode": {
   "interpreter": {
    "hash": "3f0ffcd9baaa9d5fb28fb34cc7c3ffdafd7baa47519bac9153aa33024e908916"
   }
  }
 },
 "nbformat": 4,
 "nbformat_minor": 1
}
